{
  "nbformat": 4,
  "nbformat_minor": 0,
  "metadata": {
    "colab": {
      "provenance": []
    },
    "kernelspec": {
      "name": "python3",
      "display_name": "Python 3"
    },
    "language_info": {
      "name": "python"
    }
  },
  "cells": [
    {
      "cell_type": "code",
      "execution_count": 2,
      "metadata": {
        "colab": {
          "base_uri": "https://localhost:8080/"
        },
        "id": "uu5rMRQgVPVX",
        "outputId": "f0c52897-05fb-46d6-82a6-4faad4145163"
      },
      "outputs": [
        {
          "output_type": "stream",
          "name": "stdout",
          "text": [
            "Requirement already satisfied: torch in /usr/local/lib/python3.10/dist-packages (2.4.1+cu121)\n",
            "Requirement already satisfied: torchvision in /usr/local/lib/python3.10/dist-packages (0.19.1+cu121)\n",
            "Requirement already satisfied: filelock in /usr/local/lib/python3.10/dist-packages (from torch) (3.16.1)\n",
            "Requirement already satisfied: typing-extensions>=4.8.0 in /usr/local/lib/python3.10/dist-packages (from torch) (4.12.2)\n",
            "Requirement already satisfied: sympy in /usr/local/lib/python3.10/dist-packages (from torch) (1.13.3)\n",
            "Requirement already satisfied: networkx in /usr/local/lib/python3.10/dist-packages (from torch) (3.4)\n",
            "Requirement already satisfied: jinja2 in /usr/local/lib/python3.10/dist-packages (from torch) (3.1.4)\n",
            "Requirement already satisfied: fsspec in /usr/local/lib/python3.10/dist-packages (from torch) (2024.6.1)\n",
            "Requirement already satisfied: numpy in /usr/local/lib/python3.10/dist-packages (from torchvision) (1.26.4)\n",
            "Requirement already satisfied: pillow!=8.3.*,>=5.3.0 in /usr/local/lib/python3.10/dist-packages (from torchvision) (10.4.0)\n",
            "Requirement already satisfied: MarkupSafe>=2.0 in /usr/local/lib/python3.10/dist-packages (from jinja2->torch) (3.0.1)\n",
            "Requirement already satisfied: mpmath<1.4,>=1.1.0 in /usr/local/lib/python3.10/dist-packages (from sympy->torch) (1.3.0)\n",
            "/bin/bash: line 1: torch_version: No such file or directory\n",
            "/bin/bash: line 1: torch_version: No such file or directory\n",
            "Collecting torch-geometric\n",
            "  Downloading torch_geometric-2.6.1-py3-none-any.whl.metadata (63 kB)\n",
            "\u001b[2K     \u001b[90m━━━━━━━━━━━━━━━━━━━━━━━━━━━━━━━━━━━━━━━━\u001b[0m \u001b[32m63.1/63.1 kB\u001b[0m \u001b[31m3.9 MB/s\u001b[0m eta \u001b[36m0:00:00\u001b[0m\n",
            "\u001b[?25hRequirement already satisfied: aiohttp in /usr/local/lib/python3.10/dist-packages (from torch-geometric) (3.10.10)\n",
            "Requirement already satisfied: fsspec in /usr/local/lib/python3.10/dist-packages (from torch-geometric) (2024.6.1)\n",
            "Requirement already satisfied: jinja2 in /usr/local/lib/python3.10/dist-packages (from torch-geometric) (3.1.4)\n",
            "Requirement already satisfied: numpy in /usr/local/lib/python3.10/dist-packages (from torch-geometric) (1.26.4)\n",
            "Requirement already satisfied: psutil>=5.8.0 in /usr/local/lib/python3.10/dist-packages (from torch-geometric) (5.9.5)\n",
            "Requirement already satisfied: pyparsing in /usr/local/lib/python3.10/dist-packages (from torch-geometric) (3.1.4)\n",
            "Requirement already satisfied: requests in /usr/local/lib/python3.10/dist-packages (from torch-geometric) (2.32.3)\n",
            "Requirement already satisfied: tqdm in /usr/local/lib/python3.10/dist-packages (from torch-geometric) (4.66.5)\n",
            "Requirement already satisfied: aiohappyeyeballs>=2.3.0 in /usr/local/lib/python3.10/dist-packages (from aiohttp->torch-geometric) (2.4.3)\n",
            "Requirement already satisfied: aiosignal>=1.1.2 in /usr/local/lib/python3.10/dist-packages (from aiohttp->torch-geometric) (1.3.1)\n",
            "Requirement already satisfied: attrs>=17.3.0 in /usr/local/lib/python3.10/dist-packages (from aiohttp->torch-geometric) (24.2.0)\n",
            "Requirement already satisfied: frozenlist>=1.1.1 in /usr/local/lib/python3.10/dist-packages (from aiohttp->torch-geometric) (1.4.1)\n",
            "Requirement already satisfied: multidict<7.0,>=4.5 in /usr/local/lib/python3.10/dist-packages (from aiohttp->torch-geometric) (6.1.0)\n",
            "Requirement already satisfied: yarl<2.0,>=1.12.0 in /usr/local/lib/python3.10/dist-packages (from aiohttp->torch-geometric) (1.14.0)\n",
            "Requirement already satisfied: async-timeout<5.0,>=4.0 in /usr/local/lib/python3.10/dist-packages (from aiohttp->torch-geometric) (4.0.3)\n",
            "Requirement already satisfied: MarkupSafe>=2.0 in /usr/local/lib/python3.10/dist-packages (from jinja2->torch-geometric) (3.0.1)\n",
            "Requirement already satisfied: charset-normalizer<4,>=2 in /usr/local/lib/python3.10/dist-packages (from requests->torch-geometric) (3.4.0)\n",
            "Requirement already satisfied: idna<4,>=2.5 in /usr/local/lib/python3.10/dist-packages (from requests->torch-geometric) (3.10)\n",
            "Requirement already satisfied: urllib3<3,>=1.21.1 in /usr/local/lib/python3.10/dist-packages (from requests->torch-geometric) (2.2.3)\n",
            "Requirement already satisfied: certifi>=2017.4.17 in /usr/local/lib/python3.10/dist-packages (from requests->torch-geometric) (2024.8.30)\n",
            "Requirement already satisfied: typing-extensions>=4.1.0 in /usr/local/lib/python3.10/dist-packages (from multidict<7.0,>=4.5->aiohttp->torch-geometric) (4.12.2)\n",
            "Requirement already satisfied: propcache>=0.2.0 in /usr/local/lib/python3.10/dist-packages (from yarl<2.0,>=1.12.0->aiohttp->torch-geometric) (0.2.0)\n",
            "Downloading torch_geometric-2.6.1-py3-none-any.whl (1.1 MB)\n",
            "\u001b[2K   \u001b[90m━━━━━━━━━━━━━━━━━━━━━━━━━━━━━━━━━━━━━━━━\u001b[0m \u001b[32m1.1/1.1 MB\u001b[0m \u001b[31m36.0 MB/s\u001b[0m eta \u001b[36m0:00:00\u001b[0m\n",
            "\u001b[?25hInstalling collected packages: torch-geometric\n",
            "Successfully installed torch-geometric-2.6.1\n",
            "/bin/bash: line 1: conda: command not found\n",
            "/bin/bash: line 1: conda: command not found\n",
            "Requirement already satisfied: numpy in /usr/local/lib/python3.10/dist-packages (1.26.4)\n",
            "Requirement already satisfied: pandas in /usr/local/lib/python3.10/dist-packages (2.2.2)\n",
            "Requirement already satisfied: tqdm in /usr/local/lib/python3.10/dist-packages (4.66.5)\n",
            "Requirement already satisfied: scikit-learn in /usr/local/lib/python3.10/dist-packages (1.5.2)\n",
            "Requirement already satisfied: python-dateutil>=2.8.2 in /usr/local/lib/python3.10/dist-packages (from pandas) (2.8.2)\n",
            "Requirement already satisfied: pytz>=2020.1 in /usr/local/lib/python3.10/dist-packages (from pandas) (2024.2)\n",
            "Requirement already satisfied: tzdata>=2022.7 in /usr/local/lib/python3.10/dist-packages (from pandas) (2024.2)\n",
            "Requirement already satisfied: scipy>=1.6.0 in /usr/local/lib/python3.10/dist-packages (from scikit-learn) (1.13.1)\n",
            "Requirement already satisfied: joblib>=1.2.0 in /usr/local/lib/python3.10/dist-packages (from scikit-learn) (1.4.2)\n",
            "Requirement already satisfied: threadpoolctl>=3.1.0 in /usr/local/lib/python3.10/dist-packages (from scikit-learn) (3.5.0)\n",
            "Requirement already satisfied: six>=1.5 in /usr/local/lib/python3.10/dist-packages (from python-dateutil>=2.8.2->pandas) (1.16.0)\n",
            "Requirement already satisfied: matplotlib in /usr/local/lib/python3.10/dist-packages (3.7.1)\n",
            "Requirement already satisfied: contourpy>=1.0.1 in /usr/local/lib/python3.10/dist-packages (from matplotlib) (1.3.0)\n",
            "Requirement already satisfied: cycler>=0.10 in /usr/local/lib/python3.10/dist-packages (from matplotlib) (0.12.1)\n",
            "Requirement already satisfied: fonttools>=4.22.0 in /usr/local/lib/python3.10/dist-packages (from matplotlib) (4.54.1)\n",
            "Requirement already satisfied: kiwisolver>=1.0.1 in /usr/local/lib/python3.10/dist-packages (from matplotlib) (1.4.7)\n",
            "Requirement already satisfied: numpy>=1.20 in /usr/local/lib/python3.10/dist-packages (from matplotlib) (1.26.4)\n",
            "Requirement already satisfied: packaging>=20.0 in /usr/local/lib/python3.10/dist-packages (from matplotlib) (24.1)\n",
            "Requirement already satisfied: pillow>=6.2.0 in /usr/local/lib/python3.10/dist-packages (from matplotlib) (10.4.0)\n",
            "Requirement already satisfied: pyparsing>=2.3.1 in /usr/local/lib/python3.10/dist-packages (from matplotlib) (3.1.4)\n",
            "Requirement already satisfied: python-dateutil>=2.7 in /usr/local/lib/python3.10/dist-packages (from matplotlib) (2.8.2)\n",
            "Requirement already satisfied: six>=1.5 in /usr/local/lib/python3.10/dist-packages (from python-dateutil>=2.7->matplotlib) (1.16.0)\n"
          ]
        },
        {
          "output_type": "stream",
          "name": "stderr",
          "text": [
            "Downloading https://data.pyg.org/datasets/qm9_v3.zip\n",
            "Extracting data/QM9/raw/qm9_v3.zip\n",
            "Processing...\n",
            "Using a pre-processed version of the dataset. Please install 'rdkit' to alternatively process the raw data.\n",
            "Done!\n"
          ]
        }
      ],
      "source": [
        "# Install PyTorch\n",
        "!pip install torch torchvision\n",
        "\n",
        "# Install PyTorch Geometric and its dependencies\n",
        "# Check the PyTorch Geometric website for the correct installation command based on your PyTorch version\n",
        "!pip install torch-scatter -f https://data.pyg.org/whl/torch-<torch_version>+<cpu_or_cuda>.html\n",
        "!pip install torch-sparse -f https://data.pyg.org/whl/torch-<torch_version>+<cpu_or_cuda>.html\n",
        "!pip install torch-geometric\n",
        "\n",
        "# RDKit\n",
        "!conda install -c conda-forge rdkit\n",
        "\n",
        "# OpenMM\n",
        "!conda install -c conda-forge openmm\n",
        "\n",
        "# Additional libraries\n",
        "!pip install numpy pandas tqdm scikit-learn\n",
        "\n",
        "!pip install matplotlib\n",
        "\n",
        "# Data Collection and Preparation\n",
        "# Downloading the QM9 Dataset\n",
        "\n",
        "from torch_geometric.datasets import QM9\n",
        "\n",
        "# Saved it in the argument dataset\n",
        "dataset = QM9(root='data/QM9')\n"
      ]
    },
    {
      "cell_type": "code",
      "source": [
        "# Let's explore the Dataset\n",
        "# We know that each molecule in the dataset is represented as a graph. Let's examine one example.\n",
        "\n",
        "from torch_geometric.data import Data\n",
        "\n",
        "# Get a single data point\n",
        "data = dataset[0]\n",
        "\n",
        "print(data)"
      ],
      "metadata": {
        "colab": {
          "base_uri": "https://localhost:8080/"
        },
        "id": "G6ak905dVTqx",
        "outputId": "9067fc89-0ee8-41f1-e182-3a581447f07d"
      },
      "execution_count": 3,
      "outputs": [
        {
          "output_type": "stream",
          "name": "stdout",
          "text": [
            "Data(x=[5, 11], edge_index=[2, 8], edge_attr=[8, 4], y=[1, 19], pos=[5, 3], idx=[1], name='gdb_1', z=[5])\n"
          ]
        }
      ]
    },
    {
      "cell_type": "code",
      "source": [
        "# Data Preprocessing\n",
        "#Our goal is to predict total energy (E0) and forces on each atom.\n",
        "#However, QM9 provides total energies but not forces.\n",
        "# We'll need to approximate forces using gradients of the energy with respect to positions, but since we don't have potential energy surfaces, we'll focus on energy prediction for now.\n",
        "\n",
        "from torch_geometric.data import DataLoader\n",
        "from sklearn.model_selection import train_test_split\n",
        "\n",
        "# Indices for splitting\n",
        "indices = list(range(len(dataset)))\n",
        "train_idx, test_idx = train_test_split(indices, test_size=0.1, random_state=42)\n",
        "train_idx, val_idx = train_test_split(train_idx, test_size=0.1, random_state=42)\n",
        "\n",
        "# Create subsets\n",
        "train_dataset = dataset[train_idx]\n",
        "val_dataset = dataset[val_idx]\n",
        "test_dataset = dataset[test_idx]\n",
        "\n",
        "# Data loaders\n",
        "batch_size = 32\n",
        "train_loader = DataLoader(train_dataset, batch_size=batch_size, shuffle=True)\n",
        "val_loader = DataLoader(val_dataset, batch_size=batch_size)\n",
        "test_loader = DataLoader(test_dataset, batch_size=batch_size)"
      ],
      "metadata": {
        "id": "2OrP-oBNYynf"
      },
      "execution_count": 19,
      "outputs": []
    },
    {
      "cell_type": "code",
      "source": [
        "# Let's define the GNN Model Architecture\n",
        "\n",
        "import torch\n",
        "import torch.nn.functional as F\n",
        "from torch_geometric.nn import MessagePassing, global_mean_pool\n",
        "from torch_geometric.nn import radius_graph\n",
        "from torch_geometric.utils import remove_self_loops\n",
        "\n",
        "# Let's define the MPNN Model\n",
        "\n",
        "from torch_geometric.nn import MessagePassing\n",
        "from torch_geometric.utils import add_self_loops, degree\n",
        "\n",
        "class MPNN(MessagePassing):\n",
        "    def __init__(self, node_features, edge_features, hidden_dim):\n",
        "        super(MPNN, self).__init__(aggr='add')  # Aggregation method ('add', 'mean', 'max')\n",
        "        self.node_features = node_features\n",
        "        self.edge_features = edge_features\n",
        "        self.hidden_dim = hidden_dim\n",
        "\n",
        "        # Initial node embedding\n",
        "        self.node_embedding = torch.nn.Linear(node_features, hidden_dim)\n",
        "\n",
        "        # Edge embedding\n",
        "        self.edge_embedding = torch.nn.Linear(edge_features, hidden_dim)\n",
        "\n",
        "        # Message function\n",
        "        self.message_mlp = torch.nn.Sequential(\n",
        "            torch.nn.Linear(2 * hidden_dim, hidden_dim),\n",
        "            torch.nn.ReLU(),\n",
        "            torch.nn.Linear(hidden_dim, hidden_dim),\n",
        "        )\n",
        "\n",
        "        # Update function\n",
        "        self.update_mlp = torch.nn.Sequential(\n",
        "            torch.nn.Linear(2 * hidden_dim, hidden_dim),\n",
        "            torch.nn.ReLU(),\n",
        "            torch.nn.Linear(hidden_dim, hidden_dim),\n",
        "        )\n",
        "\n",
        "        # Output MLP\n",
        "        self.output_mlp = torch.nn.Sequential(\n",
        "            torch.nn.Linear(hidden_dim, hidden_dim),\n",
        "            torch.nn.ReLU(),\n",
        "            torch.nn.Linear(hidden_dim, 1),\n",
        "        )\n",
        "\n",
        "    def forward(self, x, edge_index, edge_attr, batch):\n",
        "        # Initial node embeddings\n",
        "        x = self.node_embedding(x)\n",
        "        edge_attr = self.edge_embedding(edge_attr)\n",
        "\n",
        "        # Message passing\n",
        "        for _ in range(3):  # Number of message passing steps\n",
        "            x = self.propagate(edge_index, x=x, edge_attr=edge_attr)\n",
        "\n",
        "        # Readout\n",
        "        out = global_mean_pool(x, batch)\n",
        "        out = self.output_mlp(out)\n",
        "        return out.squeeze()\n",
        "\n",
        "    def message(self, x_i, x_j, edge_attr):\n",
        "        # x_i: Nodes receiving the message\n",
        "        # x_j: Nodes sending the message\n",
        "        # edge_attr: Edge features\n",
        "        m = torch.cat([x_i, x_j + edge_attr], dim=-1)\n",
        "        return self.message_mlp(m)\n",
        "\n",
        "    def update(self, aggr_out, x):\n",
        "        # aggr_out: Aggregated messages\n",
        "        m = torch.cat([x, aggr_out], dim=-1)\n",
        "        return self.update_mlp(m)\n"
      ],
      "metadata": {
        "id": "WLWpAK8yZxQo"
      },
      "execution_count": 20,
      "outputs": []
    },
    {
      "cell_type": "markdown",
      "source": [],
      "metadata": {
        "id": "d5T0mmepZSF7"
      }
    },
    {
      "cell_type": "code",
      "source": [
        "# Training the GNN Model\n",
        "\n",
        "# Prepare Input Features\n",
        "\n",
        "# Node Features:\n",
        "\n",
        "from torch.nn.functional import one_hot\n",
        "\n",
        "# Maximum atomic number in QM9 is 9 (F)\n",
        "max_atomic_number = 11\n",
        "\n",
        "# max_atomic_number = dataset.data.z.max().item()\n",
        "print(f\"Updated max_atomic_number: {max_atomic_number}\")\n",
        "\n",
        "\n",
        "def preprocess_data(data):\n",
        "    # One-hot encode atomic numbers\n",
        "    z = data.z  # Atomic numbers\n",
        "    x = one_hot(z - 1, num_classes=max_atomic_number).to(torch.float)\n",
        "    data.x = x\n",
        "\n",
        "    # Edge attributes: Compute distances between connected nodes\n",
        "    row, col = data.edge_index\n",
        "    pos_diff = data.pos[row] - data.pos[col]\n",
        "    dist = torch.norm(pos_diff, p=2, dim=-1).unsqueeze(-1)\n",
        "    data.edge_attr = dist\n",
        "\n",
        "    return data\n",
        "\n",
        "# Apply preprocessing\n",
        "dataset.transform = preprocess_data"
      ],
      "metadata": {
        "colab": {
          "base_uri": "https://localhost:8080/"
        },
        "id": "BMhkLVxeaSua",
        "outputId": "5721e0bf-88f8-47d1-eb82-564ed034ba30"
      },
      "execution_count": 28,
      "outputs": [
        {
          "output_type": "stream",
          "name": "stdout",
          "text": [
            "Updated max_atomic_number: 11\n"
          ]
        }
      ]
    },
    {
      "cell_type": "code",
      "source": [
        "# Let's instantiate the Model\n",
        "\n",
        "\n",
        "# node_features = max_atomic_number  # One-hot encoding size\n",
        "# edge_features = 1  # Distance as edge attribute\n",
        "# hidden_dim = 128\n",
        "\n",
        "node_features = 11  # Number of node features\n",
        "edge_features = 1\n",
        "hidden_dim = 128\n",
        "\n",
        "model = MPNN(node_features, edge_features, hidden_dim)\n",
        "\n",
        "\n",
        "# model = MPNN(node_features, edge_features, hidden_dim)\n"
      ],
      "metadata": {
        "id": "ojjAga1ga-XD"
      },
      "execution_count": 29,
      "outputs": []
    },
    {
      "cell_type": "code",
      "source": [
        "# Let's define Loss Function and Optimizer\n",
        "# We will use Mean Squared Error (MSE) loss for energy prediction\n",
        "\n",
        "import torch.optim as optim\n",
        "\n",
        "criterion = torch.nn.MSELoss()\n",
        "optimizer = optim.Adam(model.parameters(), lr=1e-3)\n"
      ],
      "metadata": {
        "id": "m6TWdrNsbfTp"
      },
      "execution_count": 30,
      "outputs": []
    },
    {
      "cell_type": "code",
      "source": [
        "# Training loop\n",
        "\n",
        "from tqdm import tqdm\n",
        "\n",
        "device = torch.device('cuda' if torch.cuda.is_available() else 'cpu')\n",
        "model = model.to(device)\n",
        "\n",
        "def train(epoch):\n",
        "    model.train()\n",
        "    total_loss = 0\n",
        "    for data in tqdm(train_loader):\n",
        "        data = data.to(device)\n",
        "        optimizer.zero_grad()\n",
        "        # Forward pass\n",
        "        output = model(data.x, data.edge_index, data.edge_attr, data.batch)\n",
        "        # Target: Total energy E0 (index 12 in QM9 targets)\n",
        "        y = data.y[:, 12]\n",
        "        loss = criterion(output, y)\n",
        "        loss.backward()\n",
        "        optimizer.step()\n",
        "        total_loss += loss.item() * data.num_graphs\n",
        "    return total_loss / len(train_loader.dataset)\n",
        "\n",
        "def validate(loader):\n",
        "    model.eval()\n",
        "    total_loss = 0\n",
        "    with torch.no_grad():\n",
        "        for data in loader:\n",
        "            data = data.to(device)\n",
        "            output = model(data.x, data.edge_index, data.edge_attr, data.batch)\n",
        "            y = data.y[:, 12]\n",
        "            loss = criterion(output, y)\n",
        "            total_loss += loss.item() * data.num_graphs\n",
        "    return total_loss / len(loader.dataset)\n",
        "\n",
        "# Training process\n",
        "num_epochs = 20\n",
        "for epoch in range(1, num_epochs + 1):\n",
        "    train_loss = train(epoch)\n",
        "    val_loss = validate(val_loader)\n",
        "    print(f'Epoch: {epoch}, Train Loss: {train_loss:.6f}, Val Loss: {val_loss:.6f}')\n"
      ],
      "metadata": {
        "colab": {
          "base_uri": "https://localhost:8080/"
        },
        "id": "QpeDXH3obsdg",
        "outputId": "4604050f-fe51-4a48-ef1f-44839a8a51ef"
      },
      "execution_count": 32,
      "outputs": [
        {
          "output_type": "stream",
          "name": "stderr",
          "text": [
            "100%|██████████| 3312/3312 [04:03<00:00, 13.57it/s]\n"
          ]
        },
        {
          "output_type": "stream",
          "name": "stdout",
          "text": [
            "Epoch: 1, Train Loss: 21.349504, Val Loss: 20.809556\n"
          ]
        },
        {
          "output_type": "stream",
          "name": "stderr",
          "text": [
            "100%|██████████| 3312/3312 [03:58<00:00, 13.89it/s]\n"
          ]
        },
        {
          "output_type": "stream",
          "name": "stdout",
          "text": [
            "Epoch: 2, Train Loss: 21.265583, Val Loss: 19.559981\n"
          ]
        },
        {
          "output_type": "stream",
          "name": "stderr",
          "text": [
            "100%|██████████| 3312/3312 [04:01<00:00, 13.72it/s]\n"
          ]
        },
        {
          "output_type": "stream",
          "name": "stdout",
          "text": [
            "Epoch: 3, Train Loss: 21.316550, Val Loss: 19.568311\n"
          ]
        },
        {
          "output_type": "stream",
          "name": "stderr",
          "text": [
            "100%|██████████| 3312/3312 [03:59<00:00, 13.81it/s]\n"
          ]
        },
        {
          "output_type": "stream",
          "name": "stdout",
          "text": [
            "Epoch: 4, Train Loss: 20.955014, Val Loss: 19.770341\n"
          ]
        },
        {
          "output_type": "stream",
          "name": "stderr",
          "text": [
            "100%|██████████| 3312/3312 [03:59<00:00, 13.80it/s]\n"
          ]
        },
        {
          "output_type": "stream",
          "name": "stdout",
          "text": [
            "Epoch: 5, Train Loss: 20.937122, Val Loss: 20.596571\n"
          ]
        },
        {
          "output_type": "stream",
          "name": "stderr",
          "text": [
            "100%|██████████| 3312/3312 [04:03<00:00, 13.61it/s]\n"
          ]
        },
        {
          "output_type": "stream",
          "name": "stdout",
          "text": [
            "Epoch: 6, Train Loss: 20.808076, Val Loss: 20.708014\n"
          ]
        },
        {
          "output_type": "stream",
          "name": "stderr",
          "text": [
            "100%|██████████| 3312/3312 [04:01<00:00, 13.72it/s]\n"
          ]
        },
        {
          "output_type": "stream",
          "name": "stdout",
          "text": [
            "Epoch: 7, Train Loss: 20.574783, Val Loss: 24.843819\n"
          ]
        },
        {
          "output_type": "stream",
          "name": "stderr",
          "text": [
            "100%|██████████| 3312/3312 [04:00<00:00, 13.78it/s]\n"
          ]
        },
        {
          "output_type": "stream",
          "name": "stdout",
          "text": [
            "Epoch: 8, Train Loss: 20.129895, Val Loss: 19.024179\n"
          ]
        },
        {
          "output_type": "stream",
          "name": "stderr",
          "text": [
            "100%|██████████| 3312/3312 [03:57<00:00, 13.97it/s]\n"
          ]
        },
        {
          "output_type": "stream",
          "name": "stdout",
          "text": [
            "Epoch: 9, Train Loss: 20.047264, Val Loss: 18.965532\n"
          ]
        },
        {
          "output_type": "stream",
          "name": "stderr",
          "text": [
            "100%|██████████| 3312/3312 [03:57<00:00, 13.92it/s]\n"
          ]
        },
        {
          "output_type": "stream",
          "name": "stdout",
          "text": [
            "Epoch: 10, Train Loss: 19.223372, Val Loss: 18.218576\n"
          ]
        },
        {
          "output_type": "stream",
          "name": "stderr",
          "text": [
            "100%|██████████| 3312/3312 [03:56<00:00, 13.98it/s]\n"
          ]
        },
        {
          "output_type": "stream",
          "name": "stdout",
          "text": [
            "Epoch: 11, Train Loss: 18.924302, Val Loss: 20.274628\n"
          ]
        },
        {
          "output_type": "stream",
          "name": "stderr",
          "text": [
            "100%|██████████| 3312/3312 [03:56<00:00, 14.03it/s]\n"
          ]
        },
        {
          "output_type": "stream",
          "name": "stdout",
          "text": [
            "Epoch: 12, Train Loss: 18.655296, Val Loss: 19.004444\n"
          ]
        },
        {
          "output_type": "stream",
          "name": "stderr",
          "text": [
            "100%|██████████| 3312/3312 [03:55<00:00, 14.04it/s]\n"
          ]
        },
        {
          "output_type": "stream",
          "name": "stdout",
          "text": [
            "Epoch: 13, Train Loss: 18.278770, Val Loss: 20.244577\n"
          ]
        },
        {
          "output_type": "stream",
          "name": "stderr",
          "text": [
            "100%|██████████| 3312/3312 [03:56<00:00, 14.03it/s]\n"
          ]
        },
        {
          "output_type": "stream",
          "name": "stdout",
          "text": [
            "Epoch: 14, Train Loss: 18.002099, Val Loss: 19.472459\n"
          ]
        },
        {
          "output_type": "stream",
          "name": "stderr",
          "text": [
            "100%|██████████| 3312/3312 [03:57<00:00, 13.93it/s]\n"
          ]
        },
        {
          "output_type": "stream",
          "name": "stdout",
          "text": [
            "Epoch: 15, Train Loss: 17.763243, Val Loss: 16.733207\n"
          ]
        },
        {
          "output_type": "stream",
          "name": "stderr",
          "text": [
            "100%|██████████| 3312/3312 [03:57<00:00, 13.96it/s]\n"
          ]
        },
        {
          "output_type": "stream",
          "name": "stdout",
          "text": [
            "Epoch: 16, Train Loss: 17.274656, Val Loss: 17.607585\n"
          ]
        },
        {
          "output_type": "stream",
          "name": "stderr",
          "text": [
            "100%|██████████| 3312/3312 [03:56<00:00, 13.99it/s]\n"
          ]
        },
        {
          "output_type": "stream",
          "name": "stdout",
          "text": [
            "Epoch: 17, Train Loss: 17.096800, Val Loss: 14.993468\n"
          ]
        },
        {
          "output_type": "stream",
          "name": "stderr",
          "text": [
            "100%|██████████| 3312/3312 [03:56<00:00, 14.00it/s]\n"
          ]
        },
        {
          "output_type": "stream",
          "name": "stdout",
          "text": [
            "Epoch: 18, Train Loss: 16.797847, Val Loss: 14.971330\n"
          ]
        },
        {
          "output_type": "stream",
          "name": "stderr",
          "text": [
            "100%|██████████| 3312/3312 [03:56<00:00, 13.99it/s]\n"
          ]
        },
        {
          "output_type": "stream",
          "name": "stdout",
          "text": [
            "Epoch: 19, Train Loss: 16.634123, Val Loss: 15.536028\n"
          ]
        },
        {
          "output_type": "stream",
          "name": "stderr",
          "text": [
            "100%|██████████| 3312/3312 [03:56<00:00, 13.98it/s]\n"
          ]
        },
        {
          "output_type": "stream",
          "name": "stdout",
          "text": [
            "Epoch: 20, Train Loss: 16.208611, Val Loss: 15.640961\n"
          ]
        }
      ]
    },
    {
      "cell_type": "markdown",
      "source": [],
      "metadata": {
        "id": "SDT4pg5fac2D"
      }
    },
    {
      "cell_type": "code",
      "source": [
        "# Handling Units\n",
        "# The target energies in QM9 are in Hartree units\n",
        "# For practical purposes, you might want to convert energies to eV or kcal/mol\n",
        "hartree_to_ev = 27.2114\n",
        "hartree_to_kcalmol = 627.509\n",
        "\n",
        "# Modify the target variable in the training and validation loops\n",
        "y = data.y[:, 12] * hartree_to_ev  # Convert to eV"
      ],
      "metadata": {
        "id": "SZXzvfTNdC4_"
      },
      "execution_count": 33,
      "outputs": []
    },
    {
      "cell_type": "code",
      "source": [
        "# Testing the Model\n",
        "test_loss = validate(test_loader)\n",
        "print(f'Test Loss: {test_loss:.6f} eV')"
      ],
      "metadata": {
        "colab": {
          "base_uri": "https://localhost:8080/"
        },
        "id": "QvpbHH5-Mvas",
        "outputId": "6ce5736a-54b9-48ef-def9-33d1207acc56"
      },
      "execution_count": 34,
      "outputs": [
        {
          "output_type": "stream",
          "name": "stdout",
          "text": [
            "Test Loss: 16.767337 eV\n"
          ]
        }
      ]
    },
    {
      "cell_type": "code",
      "source": [
        "# Saving the model\n",
        "torch.save(model.state_dict(), 'mpnn_qm9_energy.pth')"
      ],
      "metadata": {
        "id": "IiV2UJj6NHqO"
      },
      "execution_count": 35,
      "outputs": []
    }
  ]
}